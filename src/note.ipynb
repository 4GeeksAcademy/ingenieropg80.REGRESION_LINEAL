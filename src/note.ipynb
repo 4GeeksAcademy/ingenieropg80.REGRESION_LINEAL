{
 "cells": [
  {
   "cell_type": "markdown",
   "id": "1fe56006",
   "metadata": {},
   "source": [
    "Paso 4: Análisis de correlación\n",
    "Revisa la correlación entre variables numéricas y con la variable objetivo (charges).\n",
    "\n",
    "sacar todos los data set \n",
    "\n",
    "\n",
    "Paso 5: Preparación de datos para regresión\n",
    "Codifica variables categóricas (one-hot encoding).\n",
    "Separa variables predictoras (X) y variable objetivo (y).\n",
    "Divide en conjunto de entrenamiento y prueba.\n",
    "python\n",
    "Copy Code\n",
    "from sklearn.model_selection import train_test_split\n",
    "\n",
    "# One-hot encoding para variables categóricas\n",
    "data_encoded = pd.get_dummies(total_data, drop_first=True)\n",
    "\n",
    "X = data_encoded.drop('charges', axis=1)\n",
    "y = data_encoded['charges']\n",
    "\n",
    "X_train, X_test, y_train, y_test = train_test_split(X, y, test_size=0.2, random_state=42)\n",
    "\n",
    "Paso 6: Entrenamiento y optimización de regresión lineal\n",
    "Usa GridSearchCV para optimizar hiperparámetros (aunque regresión lineal simple no tiene muchos, puedes probar regularización con Ridge o Lasso).\n",
    "\n",
    "python\n",
    "Copy Code\n",
    "from sklearn.linear_model import Ridge\n",
    "from sklearn.model_selection import GridSearchCV\n",
    "from sklearn.metrics import mean_squared_error, r2_score\n",
    "\n",
    "ridge = Ridge()\n",
    "\n",
    "param_grid = {'alpha': [0.01, 0.1, 1, 10, 100]}\n",
    "\n",
    "grid_search = GridSearchCV(ridge, param_grid, cv=5, scoring='neg_mean_squared_error')\n",
    "grid_search.fit(X_train, y_train)\n",
    "\n",
    "print(\"Mejor alpha:\", grid_search.best_params_)\n",
    "\n",
    "best_model = grid_search.best_estimator_\n",
    "\n",
    "y_pred = best_model.predict(X_test)\n",
    "\n",
    "print(\"RMSE:\", mean_squared_error(y_test, y_pred, squared=False))\n",
    "print(\"R2:\", r2_score(y_test, y_pred))\n",
    "\n",
    "Paso 7: Interpretación y conclusiones\n",
    "Analiza los coeficientes del modelo para entender la influencia de cada variable.\n",
    "Evalúa el desempeño con métricas (RMSE, R2).\n",
    "Considera posibles mejoras (transformaciones, variables nuevas, modelos más complejos). "
   ]
  }
 ],
 "metadata": {
  "kernelspec": {
   "display_name": "Python 3",
   "language": "python",
   "name": "python3"
  },
  "language_info": {
   "codemirror_mode": {
    "name": "ipython",
    "version": 3
   },
   "file_extension": ".py",
   "mimetype": "text/x-python",
   "name": "python",
   "nbconvert_exporter": "python",
   "pygments_lexer": "ipython3",
   "version": "3.12.10"
  }
 },
 "nbformat": 4,
 "nbformat_minor": 5
}
